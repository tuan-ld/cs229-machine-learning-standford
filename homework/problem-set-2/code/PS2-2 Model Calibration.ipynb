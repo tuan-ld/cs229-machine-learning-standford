{
 "cells": [
  {
   "cell_type": "markdown",
   "metadata": {
    "collapsed": true,
    "pycharm": {
     "name": "#%% md\n"
    }
   },
   "source": [
    "## PS2-2 Model Calibration"
   ]
  },
  {
   "cell_type": "markdown",
   "source": [
    "#### (a)"
   ],
   "metadata": {
    "collapsed": false,
    "pycharm": {
     "name": "#%% md\n"
    }
   }
  },
  {
   "cell_type": "markdown",
   "source": [
    "To derive the maximum likelihood parameters $\\theta \\in \\mathbb{R}^{n + 1}$, $\\forall j \\in \\{ 0, \\dots , n \\}$,\n",
    "\n",
    "\\begin{align*}\n",
    "\\frac{\\partial}{\\partial \\theta_j} \\ell (\\theta) & = \\sum_{i = 1}^{m} (y^{(i)} - h_\\theta (x^{(i)})) x_j^{(i)} \\\\\n",
    "                                                 & = 0\n",
    "\\end{align*}\n",
    "\n",
    "Let $j = 0$. Since $x_0^{(i)} = 1$, the above equation becomes\n",
    "\n",
    "$$\\sum_{i = 1}^{m} (y^{(i)} - h_\\theta (x^{(i)})) = 0$$\n",
    "\n",
    "In other words,\n",
    "\n",
    "$$\\sum_{i = 1}^{m} h_\\theta (x^{(i)}) = \\sum_{i = 1}^{m} y^{(i)}$$\n",
    "\n",
    "Because $(a, b) = (0, 1)$ and $y^{(i)} \\in \\{ 0, 1 \\}$,\n",
    "\n",
    "\\begin{align*}\n",
    "\\frac{\\sum_{i \\in I_{a, b}} P(y^{(i)} = 1 \\ \\vert \\ x^{(i)}; \\ \\theta)}{\\vert \\{ i \\in I_{a, b} \\} \\vert} & = \\frac{1}{m} \\sum_{i \\in I_{a, b}} h_\\theta (x^{(i)}) \\\\\n",
    "                                                                                                          & = \\frac{1}{m} \\sum_{i \\in I_{a, b}} \\mathbb{I} \\{ y^{(i)} = 1 \\} \\\\\n",
    "                                                                                                          & = \\frac{\\sum_{i \\in I_{a, b}} \\mathbb{I} \\{ y^{(i)} = 1 \\}}{\\vert \\{ i \\in I_{a, b} \\} \\vert}\n",
    "\\end{align*}"
   ],
   "metadata": {
    "collapsed": false,
    "pycharm": {
     "name": "#%% md\n"
    }
   }
  },
  {
   "cell_type": "markdown",
   "source": [
    "#### (b)"
   ],
   "metadata": {
    "collapsed": false,
    "pycharm": {
     "name": "#%% md\n"
    }
   }
  },
  {
   "cell_type": "markdown",
   "source": [
    "No. A perfectly calibrated binary classification model does not necessarily imply that the model achieves perfect accuracy.\n",
    "\n",
    "Suppose our dataset is $\\{ (x^{(i)}, y^{(i)} = 1) \\}_{i = 1}^{m}$. If the model is perfectly calibrated, for $(a, b) = (\\frac{1}{2}, 1)$, we have:\n",
    "\n",
    "$$\\frac{\\sum_{i \\in I_{a, b}} \\mathbb{I} \\{ y^{(i)} = 1 \\}}{\\vert \\{ i \\in I_{a, b} \\} \\vert} = \\frac{\\sum_{i \\in I_{a, b}} P(y^{(i)} = 1 \\ \\vert \\ x^{(i)}; \\ \\theta)}{\\vert \\{ i \\in I_{a, b} \\} \\vert} < 1$$\n",
    "\n",
    "which indicates that it does not have perfect accuracy.\n",
    "\n",
    "Also, a model having perfect accuracy does not mean it is perfectly calibrated. Because\n",
    "\n",
    "$$\\frac{\\sum_{i \\in I_{a, b}} \\mathbb{I} \\{ y^{(i)} = 1 \\}}{\\vert \\{ i \\in I_{a, b} \\} \\vert} = 1 > \\frac{\\sum_{i \\in I_{a, b}} P(y^{(i)} = 1 \\ \\vert \\ x^{(i)}; \\ \\theta)}{\\vert \\{ i \\in I_{a, b} \\} \\vert}$$"
   ],
   "metadata": {
    "collapsed": false,
    "pycharm": {
     "name": "#%% md\n"
    }
   }
  },
  {
   "cell_type": "markdown",
   "source": [
    "#### (c)"
   ],
   "metadata": {
    "collapsed": false,
    "pycharm": {
     "name": "#%% md\n"
    }
   }
  },
  {
   "cell_type": "markdown",
   "source": [
    "Apply L2 regularization to the cost function,\n",
    "\n",
    "\\begin{align*}\n",
    "\\frac{\\partial}{\\partial \\theta_j} J(\\theta) & = - \\sum_{i = 1}^{m} (y^{(i)} - h_\\theta (x^{(i)})) x_j^{(i)} + \\lambda \\theta_j \\\\\n",
    "                                             & = 0\n",
    "\\end{align*}\n",
    "\n",
    "Obviously, if $\\theta_0 = 0$, the property still holds. Otherwise, no."
   ],
   "metadata": {
    "collapsed": false,
    "pycharm": {
     "name": "#%% md\n"
    }
   }
  }
 ],
 "metadata": {
  "kernelspec": {
   "name": "cs229",
   "language": "python",
   "display_name": "cs229"
  },
  "language_info": {
   "codemirror_mode": {
    "name": "ipython",
    "version": 2
   },
   "file_extension": ".py",
   "mimetype": "text/x-python",
   "name": "python",
   "nbconvert_exporter": "python",
   "pygments_lexer": "ipython2",
   "version": "2.7.6"
  }
 },
 "nbformat": 4,
 "nbformat_minor": 0
}